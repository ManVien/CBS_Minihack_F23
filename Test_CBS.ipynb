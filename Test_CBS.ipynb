{
  "nbformat": 4,
  "nbformat_minor": 0,
  "metadata": {
    "colab": {
      "provenance": [],
      "authorship_tag": "ABX9TyMadhPeqIwjiZDqHim/6x25",
      "include_colab_link": true
    },
    "kernelspec": {
      "name": "python3",
      "display_name": "Python 3"
    },
    "language_info": {
      "name": "python"
    }
  },
  "cells": [
    {
      "cell_type": "markdown",
      "metadata": {
        "id": "view-in-github",
        "colab_type": "text"
      },
      "source": [
        "<a href=\"https://colab.research.google.com/github/ManVien/CBS_Minihack_F23/blob/main/Test_CBS.ipynb\" target=\"_parent\"><img src=\"https://colab.research.google.com/assets/colab-badge.svg\" alt=\"Open In Colab\"/></a>"
      ]
    },
    {
      "cell_type": "code",
      "execution_count": 7,
      "metadata": {
        "colab": {
          "base_uri": "https://localhost:8080/"
        },
        "id": "8iHItggdZmD8",
        "outputId": "c0759d24-104b-4763-c053-9930d528c3c9"
      },
      "outputs": [
        {
          "output_type": "stream",
          "name": "stdout",
          "text": [
            "Requirement already satisfied: biopython in /usr/local/lib/python3.10/dist-packages (1.82)\n",
            "Requirement already satisfied: numpy in /usr/local/lib/python3.10/dist-packages (from biopython) (1.23.5)\n",
            "Accuracy: 0.9143998478219517\n",
            "Precision: 0.676923076923077\n",
            "Recall: 0.09302325581395349\n",
            "F1-score: 0.16356877323420077\n"
          ]
        }
      ],
      "source": [
        "!pip install biopython\n",
        "from Bio import SeqIO\n",
        "import numpy as np\n",
        "from sklearn.model_selection import train_test_split\n",
        "from sklearn.feature_extraction.text import CountVectorizer\n",
        "from sklearn.ensemble import RandomForestClassifier\n",
        "from sklearn.metrics import accuracy_score, precision_score, recall_score, f1_score\n",
        "\n",
        "# Function to extract sequences from fasta file\n",
        "def extract_sequences(fasta_file):\n",
        "    sequences = []\n",
        "    for record in SeqIO.parse(fasta_file, \"fasta\"):\n",
        "        sequences.append(str(record.seq))\n",
        "    return sequences\n",
        "\n",
        "# Function to generate k-mers from DNA sequences\n",
        "def generate_kmers(sequences, k):\n",
        "    vectorizer = CountVectorizer(analyzer='char', ngram_range=(k, k))\n",
        "    kmers = vectorizer.fit_transform(sequences)\n",
        "    return kmers\n",
        "\n",
        "# Function to get top predictions indices\n",
        "def get_top_predictions_indices(predictions, top_n):\n",
        "    prediction_scores = clf.predict_proba(test_kmers)[:, 1]  # For binary classification\n",
        "    top_indices = np.argsort(prediction_scores)[::-1][:top_n]\n",
        "    return top_indices\n",
        "\n",
        "# Function to write top predictions to a file\n",
        "def write_top_predictions_to_file(indices, sequences_file, output_file):\n",
        "    with open(sequences_file, 'r') as file:\n",
        "        sequence_records = list(SeqIO.parse(file, 'fasta'))\n",
        "\n",
        "    top_sequences = [sequence_records[i] for i in indices]\n",
        "\n",
        "    with open(output_file, 'w') as outfile:\n",
        "        for record in top_sequences:\n",
        "            outfile.write(f\"{record.id}\\n\")\n",
        "\n",
        "# Load and preprocess data\n",
        "accessible_sequences = extract_sequences('accessible.fasta')\n",
        "non_accessible_sequences = extract_sequences('notaccessible.fasta')\n",
        "test_sequences = extract_sequences('test.fasta')\n",
        "\n",
        "# Take a smaller subset of the data for training (e.g., 10% of the total data)\n",
        "train_fraction = 0.1\n",
        "\n",
        "# Reduce the size of accessible and non-accessible sequences\n",
        "num_accessible_samples = int(len(accessible_sequences) * train_fraction)\n",
        "num_non_accessible_samples = int(len(non_accessible_sequences) * train_fraction)\n",
        "\n",
        "accessible_sequences = accessible_sequences[:num_accessible_samples]\n",
        "non_accessible_sequences = non_accessible_sequences[:num_non_accessible_samples]\n",
        "\n",
        "# Filter sequences overlapping 'N' characters or repetitive elements\n",
        "# Implement filtering logic based on 'N' characters and repetitive elements\n",
        "\n",
        "# Generate labels for accessible and non-accessible sequences\n",
        "labels_accessible = [1] * len(accessible_sequences)\n",
        "labels_non_accessible = [0] * len(non_accessible_sequences)\n",
        "\n",
        "# Combine sequences and labels\n",
        "all_sequences = accessible_sequences + non_accessible_sequences\n",
        "all_labels = labels_accessible + labels_non_accessible\n",
        "\n",
        "# Generate k-mers for training data\n",
        "k = 5  # Adjust k as needed\n",
        "X = generate_kmers(all_sequences, k)\n",
        "\n",
        "# Split data into train and validation sets\n",
        "X_train, X_val, y_train, y_val = train_test_split(X, all_labels, test_size=0.2, random_state=42)\n",
        "\n",
        "# Train a RandomForestClassifier (or any chosen classifier)\n",
        "clf = RandomForestClassifier(n_estimators=100, random_state=42)  # Modify parameters as needed\n",
        "clf.fit(X_train, y_train)\n",
        "\n",
        "# Evaluate model on validation set\n",
        "val_predictions = clf.predict(X_val)\n",
        "\n",
        "# Calculate evaluation metrics\n",
        "accuracy = accuracy_score(y_val, val_predictions)\n",
        "precision = precision_score(y_val, val_predictions)\n",
        "recall = recall_score(y_val, val_predictions)\n",
        "f1 = f1_score(y_val, val_predictions)\n",
        "\n",
        "print(f\"Accuracy: {accuracy}\")\n",
        "print(f\"Precision: {precision}\")\n",
        "print(f\"Recall: {recall}\")\n",
        "print(f\"F1-score: {f1}\")\n",
        "\n",
        "# Use trained model to predict on test data (test.fasta)\n",
        "test_kmers = generate_kmers(test_sequences, k)\n",
        "predictions = clf.predict(test_kmers)\n",
        "\n",
        "# Get top 10,000 predictions of accessible sites\n",
        "#top_predictions_indices = get_top_predictions_indices(predictions, 10000)\n",
        "\n",
        "# Write sequence identifiers to output file\n",
        "#write_top_predictions_to_file(top_predictions_indices, 'test.fasta', 'test_top_predictions.txt')\n"
      ]
    }
  ]
}